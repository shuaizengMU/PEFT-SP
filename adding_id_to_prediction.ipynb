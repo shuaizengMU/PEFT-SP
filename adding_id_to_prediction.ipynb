{
 "cells": [
  {
   "cell_type": "code",
   "execution_count": 1,
   "metadata": {},
   "outputs": [],
   "source": [
    "import pandas as pd\n",
    "import numpy as np\n",
    "\n",
    "import os\n",
    "from Bio import SeqIO\n",
    "\n",
    "\n",
    "from collections import defaultdict\n"
   ]
  },
  {
   "cell_type": "code",
   "execution_count": 2,
   "metadata": {},
   "outputs": [
    {
     "name": "stdout",
     "output_type": "stream",
     "text": [
      "0 skip\n",
      "1 skip\n",
      "2 skip\n"
     ]
    }
   ],
   "source": [
    "\n",
    "# test_id = 2\n",
    "\n",
    "file_dir = \"data/large_data\"\n",
    "\n",
    "for test_id in [0,1,2]:\n",
    "  prediction_cases_filename = f\"{file_dir}/predictioncase_{test_id}.fasta\"\n",
    "  prediction_result_filename = f\"{file_dir}/prediction_large_{test_id}.csv\"\n",
    "\n",
    "  ids = []\n",
    "  for seq_record in SeqIO.parse(prediction_cases_filename, \"fasta\"):\n",
    "    seq_id = seq_record.id.split(\"|\")[0]\n",
    "    ids.append(seq_id)\n",
    "    \n",
    "  results_df = pd.read_csv(prediction_result_filename)\n",
    "\n",
    "  if \"id\" not in results_df:\n",
    "    results_df[\"id\"] = ids\n",
    "    results_df.to_csv(prediction_result_filename, index=False)\n",
    "    print(f\"{test_id} save\")\n",
    "  else:\n",
    "    print(f\"{test_id} skip\")\n",
    "    \n",
    "\n",
    "df_list = []\n",
    "for test_id in [0,1,2]:\n",
    "  prediction_result_filename = f\"{file_dir}/prediction_large_{test_id}.csv\"\n",
    "  results_df = pd.read_csv(prediction_result_filename)\n",
    "  df_list.append(results_df)\n",
    "  \n",
    "\n",
    "merged_df = pd.concat(df_list)\n",
    "# merged_df = merged_df.drop(columns=[\"Unnamed: 0\"])\n",
    "merged_df.to_csv(f\"{file_dir}/merged_prediction_large.csv\")"
   ]
  }
 ],
 "metadata": {
  "kernelspec": {
   "display_name": "venv_pl",
   "language": "python",
   "name": "python3"
  },
  "language_info": {
   "codemirror_mode": {
    "name": "ipython",
    "version": 3
   },
   "file_extension": ".py",
   "mimetype": "text/x-python",
   "name": "python",
   "nbconvert_exporter": "python",
   "pygments_lexer": "ipython3",
   "version": "3.8.18"
  }
 },
 "nbformat": 4,
 "nbformat_minor": 2
}
