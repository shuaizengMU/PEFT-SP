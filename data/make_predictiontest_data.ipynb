{
 "cells": [
  {
   "cell_type": "code",
   "execution_count": 1,
   "metadata": {},
   "outputs": [],
   "source": [
    "import pandas as pd\n",
    "\n",
    "import os\n",
    "from Bio import SeqIO\n",
    "\n",
    "\n",
    "from collections import defaultdict\n"
   ]
  },
  {
   "cell_type": "code",
   "execution_count": 2,
   "metadata": {},
   "outputs": [],
   "source": [
    "\n",
    "test_id = 0\n",
    "\n",
    "filename = \"/home/zengs/data/code/PEFT-SP/data/train_set.fasta\"\n",
    "prediction_testcase_filename = f\"/home/zengs/data/code/PEFT-SP/data/large_data/predictioncase_{test_id}.fasta\"\n",
    "\n",
    "\n",
    "with open(prediction_testcase_filename, \"w\") as output_file:\n",
    "  for seq_record in SeqIO.parse(filename, \"fasta\"):\n",
    "      id = seq_record.id\n",
    "      \n",
    "      if str(test_id) != id[-1]:\n",
    "        continue\n",
    "      \n",
    "      seq_len = len(seq_record.seq) // 2\n",
    "      seq = str(seq_record.seq)[:seq_len]\n",
    "      \n",
    "      id = f\">{id}\\n\"\n",
    "      seq = seq + \"\\n\"\n",
    "      \n",
    "      output_file.write(id)\n",
    "      output_file.write(seq)\n",
    "    "
   ]
  }
 ],
 "metadata": {
  "kernelspec": {
   "display_name": "venv_pl",
   "language": "python",
   "name": "python3"
  },
  "language_info": {
   "codemirror_mode": {
    "name": "ipython",
    "version": 3
   },
   "file_extension": ".py",
   "mimetype": "text/x-python",
   "name": "python",
   "nbconvert_exporter": "python",
   "pygments_lexer": "ipython3",
   "version": "3.8.18"
  }
 },
 "nbformat": 4,
 "nbformat_minor": 2
}
